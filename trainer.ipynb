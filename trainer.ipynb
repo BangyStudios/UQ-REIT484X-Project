{
 "cells": [
  {
   "cell_type": "code",
   "execution_count": 2,
   "metadata": {},
   "outputs": [],
   "source": [
    "import preprocessor\n",
    "\n",
    "generator = preprocessor.Generator()\n",
    "generator.generate_features_all(\"./datasets/train_segments/\", 0.5)"
   ]
  },
  {
   "cell_type": "code",
   "execution_count": 3,
   "metadata": {},
   "outputs": [
    {
     "name": "stdout",
     "output_type": "stream",
     "text": [
      "tensor([0.3205, 0.2849, 0.3945])\n"
     ]
    }
   ],
   "source": [
    "import dataset\n",
    "\n",
    "ds = dataset.Dataset()\n",
    "ds.balance_subfolders(\"./datasets/train_segments/dataset/\")\n",
    "dl_train, dl_test, class_to_idx = ds.get_dl_train(\"./datasets/train_segments/dataset/\", prop_train=0.75, size_batch=5)"
   ]
  },
  {
   "cell_type": "code",
   "execution_count": 5,
   "metadata": {},
   "outputs": [
    {
     "name": "stdout",
     "output_type": "stream",
     "text": [
      "Device Selected = [mps]\n"
     ]
    },
    {
     "name": "stderr",
     "output_type": "stream",
     "text": [
      "/opt/homebrew/lib/python3.11/site-packages/torch/nn/modules/lazy.py:180: UserWarning: Lazy modules are a new feature under heavy development so changes to the API or functionality can happen at any moment.\n",
      "  warnings.warn('Lazy modules are a new feature under heavy development '\n",
      "/Users/icb/Documents/Code/UQ-REIT484X-Project/modules.py:45: UserWarning: Implicit dimension choice for softmax has been deprecated. Change the call to include dim=X as an argument.\n",
      "  x = self.softmax(self.fc2(x))\n"
     ]
    },
    {
     "name": "stdout",
     "output_type": "stream",
     "text": [
      "[Test Accuracy | Epoch=[0] | 31.25]\n",
      "[Test Accuracy | Epoch=[1] | 28.125]\n",
      "[Test Accuracy | Epoch=[2] | 34.375]\n",
      "[Test Accuracy | Epoch=[3] | 31.25]\n",
      "[Test Accuracy | Epoch=[4] | 34.375]\n",
      "[Test Accuracy | Epoch=[5] | 37.5]\n",
      "[Test Accuracy | Epoch=[6] | 40.625]\n",
      "[Test Accuracy | Epoch=[7] | 50.0]\n",
      "[Test Accuracy | Epoch=[8] | 40.625]\n",
      "[Test Accuracy | Epoch=[9] | 40.625]\n",
      "[Test Accuracy | Epoch=[10] | 46.875]\n",
      "[Test Accuracy | Epoch=[11] | 50.0]\n",
      "[Test Accuracy | Epoch=[12] | 50.0]\n",
      "[Test Accuracy | Epoch=[13] | 53.125]\n",
      "[Test Accuracy | Epoch=[14] | 65.625]\n",
      "[Test Accuracy | Epoch=[15] | 59.375]\n",
      "[Test Accuracy | Epoch=[16] | 62.5]\n",
      "[Test Accuracy | Epoch=[17] | 62.5]\n",
      "[Test Accuracy | Epoch=[18] | 71.875]\n",
      "[Test Accuracy | Epoch=[19] | 68.75]\n",
      "[Test Accuracy | Epoch=[20] | 81.25]\n",
      "[Test Accuracy | Epoch=[21] | 71.875]\n",
      "[Test Accuracy | Epoch=[22] | 71.875]\n",
      "[Test Accuracy | Epoch=[23] | 78.125]\n",
      "[Test Accuracy | Epoch=[24] | 78.125]\n",
      "[Test Accuracy | Epoch=[25] | 81.25]\n",
      "[Test Accuracy | Epoch=[26] | 87.5]\n",
      "[Test Accuracy | Epoch=[27] | 84.375]\n",
      "[Test Accuracy | Epoch=[28] | 87.5]\n",
      "[Test Accuracy | Epoch=[29] | 87.5]\n",
      "[Test Accuracy | Epoch=[30] | 81.25]\n",
      "[Test Accuracy | Epoch=[31] | 96.875]\n",
      "[Test Accuracy | Epoch=[32] | 93.75]\n",
      "[Test Accuracy | Epoch=[33] | 93.75]\n",
      "[Test Accuracy | Epoch=[34] | 90.625]\n",
      "[Test Accuracy | Epoch=[35] | 93.75]\n",
      "[Test Accuracy | Epoch=[36] | 90.625]\n",
      "Saved model\n"
     ]
    }
   ],
   "source": [
    "import train\n",
    "\n",
    "trainer = train.Trainer(\"./model.txt\")\n",
    "trainer.train(dl_train, dl_test, class_to_idx)"
   ]
  },
  {
   "cell_type": "code",
   "execution_count": null,
   "metadata": {},
   "outputs": [],
   "source": [
    "import predict\n",
    "predictor = predict.Predict(\"./model.txt\")\n",
    "\n",
    "for i in range(47):\n",
    "    sample = ds.get_transform(f\"datasets/train_segments/dataset/cricket/cricket-{i}.png\")\n",
    "    print(predictor.predict(sample))"
   ]
  }
 ],
 "metadata": {
  "kernelspec": {
   "display_name": "Python 3",
   "language": "python",
   "name": "python3"
  },
  "language_info": {
   "codemirror_mode": {
    "name": "ipython",
    "version": 3
   },
   "file_extension": ".py",
   "mimetype": "text/x-python",
   "name": "python",
   "nbconvert_exporter": "python",
   "pygments_lexer": "ipython3",
   "version": "3.11.5"
  },
  "orig_nbformat": 4
 },
 "nbformat": 4,
 "nbformat_minor": 2
}
