{
 "cells": [
  {
   "cell_type": "code",
   "execution_count": 2,
   "metadata": {},
   "outputs": [
    {
     "name": "stderr",
     "output_type": "stream",
     "text": [
      "/opt/homebrew/lib/python3.11/site-packages/torchaudio/functional/functional.py:576: UserWarning: At least one mel filterbank has all zero values. The value for `n_mels` (128) may be set too high. Or, the value for `n_freqs` (201) may be set too low.\n",
      "  warnings.warn(\n"
     ]
    }
   ],
   "source": [
    "import preprocessor\n",
    "\n",
    "generator = preprocessor.Generator()\n",
    "generator.generate_features_all(\"./datasets/train_segments/\", 0.5)"
   ]
  },
  {
   "cell_type": "code",
   "execution_count": 3,
   "metadata": {},
   "outputs": [
    {
     "name": "stdout",
     "output_type": "stream",
     "text": [
      "tensor([0.3226, 0.3824, 0.2950])\n"
     ]
    }
   ],
   "source": [
    "import dataset\n",
    "\n",
    "ds = dataset.Dataset()\n",
    "ds.balance_subfolders(\"./datasets/train_segments/dataset/\")\n",
    "dl_train, dl_test, class_to_idx = ds.get_dl_train(\"./datasets/train_segments/dataset/\", prop_train=0.75, size_batch=5)"
   ]
  },
  {
   "cell_type": "code",
   "execution_count": 5,
   "metadata": {},
   "outputs": [
    {
     "name": "stdout",
     "output_type": "stream",
     "text": [
      "Device Selected = [mps]\n"
     ]
    },
    {
     "name": "stderr",
     "output_type": "stream",
     "text": [
      "/opt/homebrew/lib/python3.11/site-packages/torch/nn/modules/lazy.py:180: UserWarning: Lazy modules are a new feature under heavy development so changes to the API or functionality can happen at any moment.\n",
      "  warnings.warn('Lazy modules are a new feature under heavy development '\n",
      "/Users/icb/Documents/Code/UQ-REIT484X-Project/modules.py:45: UserWarning: Implicit dimension choice for softmax has been deprecated. Change the call to include dim=X as an argument.\n",
      "  x = self.softmax(self.fc2(x))\n"
     ]
    },
    {
     "name": "stdout",
     "output_type": "stream",
     "text": [
      "[Test Accuracy | Epoch=[0] | 28.125]\n",
      "[Test Accuracy | Epoch=[1] | 34.375]\n",
      "[Test Accuracy | Epoch=[2] | 37.5]\n",
      "[Test Accuracy | Epoch=[3] | 34.375]\n",
      "[Test Accuracy | Epoch=[4] | 46.875]\n",
      "[Test Accuracy | Epoch=[5] | 46.875]\n",
      "[Test Accuracy | Epoch=[6] | 37.5]\n",
      "[Test Accuracy | Epoch=[7] | 46.875]\n",
      "[Test Accuracy | Epoch=[8] | 46.875]\n",
      "[Test Accuracy | Epoch=[9] | 53.125]\n",
      "[Test Accuracy | Epoch=[10] | 56.25]\n",
      "[Test Accuracy | Epoch=[11] | 53.125]\n",
      "[Test Accuracy | Epoch=[12] | 53.125]\n",
      "[Test Accuracy | Epoch=[13] | 56.25]\n",
      "[Test Accuracy | Epoch=[14] | 71.875]\n",
      "[Test Accuracy | Epoch=[15] | 56.25]\n",
      "[Test Accuracy | Epoch=[16] | 65.625]\n",
      "[Test Accuracy | Epoch=[17] | 78.125]\n",
      "[Test Accuracy | Epoch=[18] | 75.0]\n",
      "[Test Accuracy | Epoch=[19] | 81.25]\n",
      "[Test Accuracy | Epoch=[20] | 84.375]\n",
      "[Test Accuracy | Epoch=[21] | 81.25]\n",
      "[Test Accuracy | Epoch=[22] | 81.25]\n",
      "[Test Accuracy | Epoch=[23] | 81.25]\n",
      "[Test Accuracy | Epoch=[24] | 78.125]\n",
      "[Test Accuracy | Epoch=[25] | 84.375]\n",
      "[Test Accuracy | Epoch=[26] | 81.25]\n",
      "[Test Accuracy | Epoch=[27] | 90.625]\n",
      "[Test Accuracy | Epoch=[28] | 87.5]\n",
      "[Test Accuracy | Epoch=[29] | 90.625]\n",
      "[Test Accuracy | Epoch=[30] | 81.25]\n",
      "[Test Accuracy | Epoch=[31] | 90.625]\n",
      "[Test Accuracy | Epoch=[32] | 96.875]\n",
      "[Test Accuracy | Epoch=[33] | 87.5]\n",
      "[Test Accuracy | Epoch=[34] | 84.375]\n",
      "[Test Accuracy | Epoch=[35] | 90.625]\n",
      "[Test Accuracy | Epoch=[36] | 84.375]\n",
      "[Test Accuracy | Epoch=[37] | 96.875]\n",
      "[Test Accuracy | Epoch=[38] | 84.375]\n",
      "[Test Accuracy | Epoch=[39] | 90.625]\n",
      "[Test Accuracy | Epoch=[40] | 96.875]\n",
      "[Test Accuracy | Epoch=[41] | 90.625]\n",
      "[Test Accuracy | Epoch=[42] | 90.625]\n",
      "[Test Accuracy | Epoch=[43] | 84.375]\n",
      "[Test Accuracy | Epoch=[44] | 87.5]\n",
      "[Test Accuracy | Epoch=[45] | 93.75]\n",
      "[Test Accuracy | Epoch=[46] | 93.75]\n",
      "[Test Accuracy | Epoch=[47] | 90.625]\n",
      "[Test Accuracy | Epoch=[48] | 90.625]\n",
      "[Test Accuracy | Epoch=[49] | 93.75]\n",
      "[Test Accuracy | Epoch=[50] | 96.875]\n",
      "Saved model\n"
     ]
    }
   ],
   "source": [
    "import train\n",
    "\n",
    "trainer = train.Trainer(\"./model.txt\")\n",
    "trainer.train(dl_train, dl_test, class_to_idx)"
   ]
  },
  {
   "cell_type": "code",
   "execution_count": null,
   "metadata": {},
   "outputs": [],
   "source": [
    "import predict\n",
    "predictor = predict.Predict(\"./model.txt\")\n",
    "\n",
    "for i in range(47):\n",
    "    sample = ds.get_transform(f\"datasets/train_segments/dataset/cricket/cricket-{i}.png\")\n",
    "    print(predictor.predict(sample))"
   ]
  }
 ],
 "metadata": {
  "kernelspec": {
   "display_name": "Python 3",
   "language": "python",
   "name": "python3"
  },
  "language_info": {
   "codemirror_mode": {
    "name": "ipython",
    "version": 3
   },
   "file_extension": ".py",
   "mimetype": "text/x-python",
   "name": "python",
   "nbconvert_exporter": "python",
   "pygments_lexer": "ipython3",
   "version": "3.0.0"
  },
  "orig_nbformat": 4
 },
 "nbformat": 4,
 "nbformat_minor": 2
}
