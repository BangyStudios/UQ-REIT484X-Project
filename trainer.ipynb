{
 "cells": [
  {
   "cell_type": "code",
   "execution_count": 1,
   "metadata": {},
   "outputs": [
    {
     "name": "stderr",
     "output_type": "stream",
     "text": [
      "/opt/homebrew/lib/python3.11/site-packages/torchaudio/functional/functional.py:576: UserWarning: At least one mel filterbank has all zero values. The value for `n_mels` (128) may be set too high. Or, the value for `n_freqs` (201) may be set too low.\n",
      "  warnings.warn(\n"
     ]
    },
    {
     "name": "stdout",
     "output_type": "stream",
     "text": [
      "tensor([0.3654, 0.3113, 0.3233])\n",
      "An error occurred: [Errno 2] No such file or directory: './model/latest.txt'\n",
      "Device Selected = [cpu]\n"
     ]
    },
    {
     "name": "stderr",
     "output_type": "stream",
     "text": [
      "/opt/homebrew/lib/python3.11/site-packages/torch/nn/modules/lazy.py:180: UserWarning: Lazy modules are a new feature under heavy development so changes to the API or functionality can happen at any moment.\n",
      "  warnings.warn('Lazy modules are a new feature under heavy development '\n",
      "/Users/icb/Documents/Code/UQ-REIT484X-Project/modules.py:45: UserWarning: Implicit dimension choice for softmax has been deprecated. Change the call to include dim=X as an argument.\n",
      "  x = self.softmax(self.fc2(x))\n"
     ]
    },
    {
     "name": "stdout",
     "output_type": "stream",
     "text": [
      "[Test Accuracy | Epoch=[0] | 42.30769230769231]\n",
      "[Test Accuracy | Epoch=[1] | 30.76923076923077]\n",
      "[Test Accuracy | Epoch=[2] | 26.923076923076923]\n",
      "[Test Accuracy | Epoch=[3] | 46.15384615384615]\n",
      "[Test Accuracy | Epoch=[4] | 53.84615384615385]\n",
      "[Test Accuracy | Epoch=[5] | 50.0]\n",
      "[Test Accuracy | Epoch=[6] | 50.0]\n",
      "[Test Accuracy | Epoch=[7] | 50.0]\n",
      "[Test Accuracy | Epoch=[8] | 46.15384615384615]\n",
      "[Test Accuracy | Epoch=[9] | 61.53846153846154]\n",
      "[Test Accuracy | Epoch=[10] | 61.53846153846154]\n",
      "[Test Accuracy | Epoch=[11] | 57.69230769230769]\n",
      "[Test Accuracy | Epoch=[12] | 61.53846153846154]\n",
      "[Test Accuracy | Epoch=[13] | 61.53846153846154]\n",
      "[Test Accuracy | Epoch=[14] | 53.84615384615385]\n",
      "[Test Accuracy | Epoch=[15] | 69.23076923076923]\n",
      "[Test Accuracy | Epoch=[16] | 76.92307692307692]\n",
      "[Test Accuracy | Epoch=[17] | 69.23076923076923]\n",
      "[Test Accuracy | Epoch=[18] | 73.07692307692308]\n",
      "[Test Accuracy | Epoch=[19] | 80.76923076923077]\n",
      "[Test Accuracy | Epoch=[20] | 73.07692307692308]\n",
      "[Test Accuracy | Epoch=[21] | 73.07692307692308]\n",
      "[Test Accuracy | Epoch=[22] | 73.07692307692308]\n",
      "[Test Accuracy | Epoch=[23] | 76.92307692307692]\n",
      "[Test Accuracy | Epoch=[24] | 65.38461538461539]\n",
      "[Test Accuracy | Epoch=[25] | 69.23076923076923]\n",
      "[Test Accuracy | Epoch=[26] | 73.07692307692308]\n",
      "[Test Accuracy | Epoch=[27] | 76.92307692307692]\n",
      "[Test Accuracy | Epoch=[28] | 80.76923076923077]\n",
      "[Test Accuracy | Epoch=[29] | 73.07692307692308]\n",
      "[Test Accuracy | Epoch=[30] | 73.07692307692308]\n",
      "[Test Accuracy | Epoch=[31] | 73.07692307692308]\n",
      "[Test Accuracy | Epoch=[32] | 76.92307692307692]\n",
      "[Test Accuracy | Epoch=[33] | 80.76923076923077]\n",
      "[Test Accuracy | Epoch=[34] | 76.92307692307692]\n",
      "[Test Accuracy | Epoch=[35] | 73.07692307692308]\n",
      "[Test Accuracy | Epoch=[36] | 69.23076923076923]\n",
      "[Test Accuracy | Epoch=[37] | 69.23076923076923]\n",
      "[Test Accuracy | Epoch=[38] | 76.92307692307692]\n",
      "[Test Accuracy | Epoch=[39] | 76.92307692307692]\n",
      "[Test Accuracy | Epoch=[40] | 80.76923076923077]\n",
      "[Test Accuracy | Epoch=[41] | 80.76923076923077]\n",
      "[Test Accuracy | Epoch=[42] | 73.07692307692308]\n",
      "[Test Accuracy | Epoch=[43] | 80.76923076923077]\n",
      "[Test Accuracy | Epoch=[44] | 73.07692307692308]\n",
      "[Test Accuracy | Epoch=[45] | 76.92307692307692]\n",
      "[Test Accuracy | Epoch=[46] | 76.92307692307692]\n",
      "[Test Accuracy | Epoch=[47] | 80.76923076923077]\n",
      "[Test Accuracy | Epoch=[48] | 84.61538461538461]\n",
      "[Test Accuracy | Epoch=[49] | 84.61538461538461]\n",
      "[Test Accuracy | Epoch=[50] | 76.92307692307692]\n",
      "[Test Accuracy | Epoch=[51] | 76.92307692307692]\n",
      "[Test Accuracy | Epoch=[52] | 88.46153846153847]\n",
      "[Test Accuracy | Epoch=[53] | 76.92307692307692]\n",
      "[Test Accuracy | Epoch=[54] | 80.76923076923077]\n",
      "[Test Accuracy | Epoch=[55] | 84.61538461538461]\n",
      "[Test Accuracy | Epoch=[56] | 76.92307692307692]\n",
      "[Test Accuracy | Epoch=[57] | 80.76923076923077]\n",
      "[Test Accuracy | Epoch=[58] | 76.92307692307692]\n",
      "[Test Accuracy | Epoch=[59] | 80.76923076923077]\n",
      "[Test Accuracy | Epoch=[60] | 84.61538461538461]\n",
      "[Test Accuracy | Epoch=[61] | 80.76923076923077]\n",
      "[Test Accuracy | Epoch=[62] | 76.92307692307692]\n",
      "[Test Accuracy | Epoch=[63] | 88.46153846153847]\n",
      "[Test Accuracy | Epoch=[64] | 88.46153846153847]\n",
      "[Test Accuracy | Epoch=[65] | 88.46153846153847]\n",
      "[Test Accuracy | Epoch=[66] | 84.61538461538461]\n",
      "[Test Accuracy | Epoch=[67] | 80.76923076923077]\n",
      "[Test Accuracy | Epoch=[68] | 76.92307692307692]\n",
      "[Test Accuracy | Epoch=[69] | 88.46153846153847]\n",
      "[Test Accuracy | Epoch=[70] | 84.61538461538461]\n",
      "[Test Accuracy | Epoch=[71] | 88.46153846153847]\n",
      "[Test Accuracy | Epoch=[72] | 80.76923076923077]\n",
      "[Test Accuracy | Epoch=[73] | 96.15384615384616]\n",
      "[Test Accuracy | Epoch=[74] | 80.76923076923077]\n",
      "[Test Accuracy | Epoch=[75] | 88.46153846153847]\n",
      "[Test Accuracy | Epoch=[76] | 88.46153846153847]\n",
      "[Test Accuracy | Epoch=[77] | 88.46153846153847]\n",
      "[Test Accuracy | Epoch=[78] | 88.46153846153847]\n",
      "[Test Accuracy | Epoch=[79] | 84.61538461538461]\n",
      "[Test Accuracy | Epoch=[80] | 88.46153846153847]\n",
      "[Test Accuracy | Epoch=[81] | 88.46153846153847]\n",
      "[Test Accuracy | Epoch=[82] | 92.3076923076923]\n",
      "[Test Accuracy | Epoch=[83] | 84.61538461538461]\n",
      "[Test Accuracy | Epoch=[84] | 88.46153846153847]\n",
      "[Test Accuracy | Epoch=[85] | 84.61538461538461]\n",
      "[Test Accuracy | Epoch=[86] | 92.3076923076923]\n",
      "[Test Accuracy | Epoch=[87] | 92.3076923076923]\n",
      "[Test Accuracy | Epoch=[88] | 92.3076923076923]\n",
      "[Test Accuracy | Epoch=[89] | 92.3076923076923]\n",
      "[Test Accuracy | Epoch=[90] | 88.46153846153847]\n",
      "[Test Accuracy | Epoch=[91] | 96.15384615384616]\n",
      "[Test Accuracy | Epoch=[92] | 92.3076923076923]\n",
      "Saved model\n"
     ]
    }
   ],
   "source": [
    "import trainer\n",
    "\n",
    "tr = trainer.Trainer()\n",
    "tr.run_train()"
   ]
  }
 ],
 "metadata": {
  "kernelspec": {
   "display_name": "Python 3",
   "language": "python",
   "name": "python3"
  },
  "language_info": {
   "codemirror_mode": {
    "name": "ipython",
    "version": 3
   },
   "file_extension": ".py",
   "mimetype": "text/x-python",
   "name": "python",
   "nbconvert_exporter": "python",
   "pygments_lexer": "ipython3",
   "version": "3.11.5"
  },
  "orig_nbformat": 4
 },
 "nbformat": 4,
 "nbformat_minor": 2
}
