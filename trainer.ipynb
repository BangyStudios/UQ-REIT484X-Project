{
 "cells": [
  {
   "cell_type": "code",
   "execution_count": 3,
   "metadata": {},
   "outputs": [
    {
     "name": "stderr",
     "output_type": "stream",
     "text": [
      "/Users/icb/Documents/Code/UQ-REIT484X-Project/preprocessor.py:106: FutureWarning: get_duration() keyword argument 'filename' has been renamed to 'path' in version 0.10.0.\n",
      "\tThis alias will be removed in version 1.0.\n",
      "  length_total = librosa.get_duration(filename=input_file)\n",
      "/Users/icb/Documents/Code/UQ-REIT484X-Project/preprocessor.py:106: FutureWarning: get_duration() keyword argument 'filename' has been renamed to 'path' in version 0.10.0.\n",
      "\tThis alias will be removed in version 1.0.\n",
      "  length_total = librosa.get_duration(filename=input_file)\n",
      "/Users/icb/Documents/Code/UQ-REIT484X-Project/preprocessor.py:106: FutureWarning: PySoundFile failed. Trying audioread instead.\n",
      "\tAudioread support is deprecated in librosa 0.10.0 and will be removed in version 1.0.\n",
      "  length_total = librosa.get_duration(filename=input_file)\n",
      "/Users/icb/Documents/Code/UQ-REIT484X-Project/preprocessor.py:100: UserWarning: PySoundFile failed. Trying audioread instead.\n",
      "  segment, segment_sr = librosa.load(input_file, offset=time_start, duration=length_segment)\n",
      "/opt/homebrew/lib/python3.11/site-packages/librosa/core/audio.py:184: FutureWarning: librosa.core.audio.__audioread_load\n",
      "\tDeprecated as of librosa version 0.10.0.\n",
      "\tIt will be removed in librosa version 1.0.\n",
      "  y, sr_native = __audioread_load(path, offset, duration, dtype)\n"
     ]
    }
   ],
   "source": [
    "import preprocessor\n",
    "\n",
    "generator = preprocessor.Generator()\n",
    "generator.generate_mfccs_all(\"./datasets/train_segments/\")"
   ]
  },
  {
   "cell_type": "code",
   "execution_count": 1,
   "metadata": {},
   "outputs": [
    {
     "name": "stdout",
     "output_type": "stream",
     "text": [
      "['0-control', '1-cricket', '2-fly', '3-fly_large']\n",
      "tensor([0.2089, 0.1187, 0.4351, 0.2373])\n"
     ]
    }
   ],
   "source": [
    "import dataset\n",
    "\n",
    "ds = dataset.Dataset(\"./datasets/train_segments/dataset/\", prop_train=0.75, size_batch=1)\n",
    "dl_train, dl_test = ds.get_dl()"
   ]
  },
  {
   "cell_type": "code",
   "execution_count": 2,
   "metadata": {},
   "outputs": [
    {
     "name": "stdout",
     "output_type": "stream",
     "text": [
      "Device Selected = [mps]\n"
     ]
    },
    {
     "name": "stderr",
     "output_type": "stream",
     "text": [
      "/opt/homebrew/lib/python3.11/site-packages/torch/nn/modules/lazy.py:180: UserWarning: Lazy modules are a new feature under heavy development so changes to the API or functionality can happen at any moment.\n",
      "  warnings.warn('Lazy modules are a new feature under heavy development '\n",
      "/Users/icb/Documents/Code/UQ-REIT484X-Project/modules.py:47: UserWarning: Implicit dimension choice for softmax has been deprecated. Change the call to include dim=X as an argument.\n",
      "  x = self.softmax(self.fc2(x))\n"
     ]
    },
    {
     "name": "stdout",
     "output_type": "stream",
     "text": [
      "[Test Accuracy | Epoch=[0] | 31.428571428571427]\n",
      "[Test Accuracy | Epoch=[1] | 28.571428571428573]\n",
      "[Test Accuracy | Epoch=[2] | 40.0]\n",
      "[Test Accuracy | Epoch=[3] | 48.57142857142857]\n",
      "[Test Accuracy | Epoch=[4] | 34.285714285714285]\n",
      "[Test Accuracy | Epoch=[5] | 37.142857142857146]\n",
      "[Test Accuracy | Epoch=[6] | 45.714285714285715]\n",
      "[Test Accuracy | Epoch=[7] | 37.142857142857146]\n",
      "[Test Accuracy | Epoch=[8] | 40.0]\n",
      "[Test Accuracy | Epoch=[9] | 45.714285714285715]\n",
      "[Test Accuracy | Epoch=[10] | 54.285714285714285]\n",
      "[Test Accuracy | Epoch=[11] | 54.285714285714285]\n",
      "[Test Accuracy | Epoch=[12] | 54.285714285714285]\n",
      "[Test Accuracy | Epoch=[13] | 51.42857142857143]\n",
      "[Test Accuracy | Epoch=[14] | 54.285714285714285]\n",
      "[Test Accuracy | Epoch=[15] | 45.714285714285715]\n",
      "[Test Accuracy | Epoch=[16] | 45.714285714285715]\n",
      "[Test Accuracy | Epoch=[17] | 51.42857142857143]\n",
      "[Test Accuracy | Epoch=[18] | 57.142857142857146]\n",
      "[Test Accuracy | Epoch=[19] | 51.42857142857143]\n",
      "[Test Accuracy | Epoch=[20] | 62.857142857142854]\n",
      "[Test Accuracy | Epoch=[21] | 62.857142857142854]\n",
      "[Test Accuracy | Epoch=[22] | 68.57142857142857]\n",
      "[Test Accuracy | Epoch=[23] | 54.285714285714285]\n",
      "[Test Accuracy | Epoch=[24] | 60.0]\n",
      "[Test Accuracy | Epoch=[25] | 57.142857142857146]\n",
      "[Test Accuracy | Epoch=[26] | 60.0]\n",
      "[Test Accuracy | Epoch=[27] | 57.142857142857146]\n",
      "[Test Accuracy | Epoch=[28] | 54.285714285714285]\n",
      "[Test Accuracy | Epoch=[29] | 62.857142857142854]\n",
      "[Test Accuracy | Epoch=[30] | 60.0]\n",
      "[Test Accuracy | Epoch=[31] | 65.71428571428571]\n",
      "[Test Accuracy | Epoch=[32] | 65.71428571428571]\n",
      "[Test Accuracy | Epoch=[33] | 60.0]\n",
      "[Test Accuracy | Epoch=[34] | 57.142857142857146]\n",
      "[Test Accuracy | Epoch=[35] | 68.57142857142857]\n",
      "[Test Accuracy | Epoch=[36] | 74.28571428571429]\n",
      "[Test Accuracy | Epoch=[37] | 65.71428571428571]\n",
      "[Test Accuracy | Epoch=[38] | 65.71428571428571]\n",
      "[Test Accuracy | Epoch=[39] | 68.57142857142857]\n",
      "[Test Accuracy | Epoch=[40] | 65.71428571428571]\n",
      "[Test Accuracy | Epoch=[41] | 68.57142857142857]\n",
      "[Test Accuracy | Epoch=[42] | 60.0]\n",
      "[Test Accuracy | Epoch=[43] | 65.71428571428571]\n",
      "[Test Accuracy | Epoch=[44] | 62.857142857142854]\n",
      "[Test Accuracy | Epoch=[45] | 71.42857142857143]\n",
      "[Test Accuracy | Epoch=[46] | 68.57142857142857]\n",
      "[Test Accuracy | Epoch=[47] | 68.57142857142857]\n",
      "[Test Accuracy | Epoch=[48] | 71.42857142857143]\n",
      "[Test Accuracy | Epoch=[49] | 60.0]\n",
      "[Test Accuracy | Epoch=[50] | 68.57142857142857]\n",
      "[Test Accuracy | Epoch=[51] | 68.57142857142857]\n",
      "[Test Accuracy | Epoch=[52] | 68.57142857142857]\n",
      "[Test Accuracy | Epoch=[53] | 65.71428571428571]\n",
      "[Test Accuracy | Epoch=[54] | 62.857142857142854]\n",
      "[Test Accuracy | Epoch=[55] | 65.71428571428571]\n",
      "[Test Accuracy | Epoch=[56] | 68.57142857142857]\n",
      "[Test Accuracy | Epoch=[57] | 65.71428571428571]\n",
      "[Test Accuracy | Epoch=[58] | 65.71428571428571]\n",
      "[Test Accuracy | Epoch=[59] | 77.14285714285714]\n",
      "[Test Accuracy | Epoch=[60] | 77.14285714285714]\n",
      "[Test Accuracy | Epoch=[61] | 74.28571428571429]\n",
      "[Test Accuracy | Epoch=[62] | 77.14285714285714]\n",
      "[Test Accuracy | Epoch=[63] | 77.14285714285714]\n",
      "[Test Accuracy | Epoch=[64] | 77.14285714285714]\n",
      "[Test Accuracy | Epoch=[65] | 71.42857142857143]\n",
      "[Test Accuracy | Epoch=[66] | 74.28571428571429]\n",
      "[Test Accuracy | Epoch=[67] | 74.28571428571429]\n",
      "[Test Accuracy | Epoch=[68] | 88.57142857142857]\n",
      "[Test Accuracy | Epoch=[69] | 80.0]\n",
      "[Test Accuracy | Epoch=[70] | 82.85714285714286]\n",
      "[Test Accuracy | Epoch=[71] | 80.0]\n",
      "[Test Accuracy | Epoch=[72] | 82.85714285714286]\n",
      "[Test Accuracy | Epoch=[73] | 88.57142857142857]\n",
      "[Test Accuracy | Epoch=[74] | 74.28571428571429]\n",
      "[Test Accuracy | Epoch=[75] | 80.0]\n",
      "[Test Accuracy | Epoch=[76] | 74.28571428571429]\n",
      "[Test Accuracy | Epoch=[77] | 85.71428571428571]\n",
      "[Test Accuracy | Epoch=[78] | 82.85714285714286]\n",
      "[Test Accuracy | Epoch=[79] | 80.0]\n",
      "[Test Accuracy | Epoch=[80] | 85.71428571428571]\n",
      "[Test Accuracy | Epoch=[81] | 85.71428571428571]\n",
      "[Test Accuracy | Epoch=[82] | 88.57142857142857]\n",
      "[Test Accuracy | Epoch=[83] | 85.71428571428571]\n",
      "[Test Accuracy | Epoch=[84] | 80.0]\n",
      "Saved model\n"
     ]
    }
   ],
   "source": [
    "import train\n",
    "\n",
    "trainer = train.Trainer(\"./model.txt\")\n",
    "trainer.train(dl_train, dl_test)"
   ]
  },
  {
   "cell_type": "code",
   "execution_count": null,
   "metadata": {},
   "outputs": [],
   "source": [
    "import predict\n",
    "predictor = predict.Predict(\"./model.txt\")\n",
    "\n",
    "for i in range(47):\n",
    "    sample = ds.get_transform(f\"datasets/train_segments/dataset/cricket/cricket-{i}.png\")\n",
    "    print(predictor.predict(sample))"
   ]
  }
 ],
 "metadata": {
  "kernelspec": {
   "display_name": "Python 3",
   "language": "python",
   "name": "python3"
  },
  "language_info": {
   "codemirror_mode": {
    "name": "ipython",
    "version": 3
   },
   "file_extension": ".py",
   "mimetype": "text/x-python",
   "name": "python",
   "nbconvert_exporter": "python",
   "pygments_lexer": "ipython3",
   "version": "3.11.4"
  },
  "orig_nbformat": 4
 },
 "nbformat": 4,
 "nbformat_minor": 2
}
