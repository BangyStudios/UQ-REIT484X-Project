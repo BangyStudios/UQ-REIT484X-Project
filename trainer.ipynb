{
 "cells": [
  {
   "cell_type": "code",
   "execution_count": null,
   "metadata": {},
   "outputs": [],
   "source": [
    "n_class_list = [3]\n",
    "conv1_params_list = [\n",
    "    {\"out_channels\": 10, \"kernel_size\": 2, \"stride\": 1},\n",
    "]\n",
    "conv2_params_list = [\n",
    "    {\"out_channels\": 60, \"kernel_size\": 2, \"stride\": 1},\n",
    "]\n",
    "fc1_out_features_list = [1024]"
   ]
  },
  {
   "cell_type": "code",
   "execution_count": null,
   "metadata": {},
   "outputs": [],
   "source": [
    "import trainer\n",
    "\n",
    "tr = trainer.Trainer()\n",
    "\n",
    "for n_class in n_class_list:\n",
    "    for conv1_params in conv1_params_list:\n",
    "        for conv2_params in conv2_params_list:\n",
    "            for fc1_out_features in fc1_out_features_list:\n",
    "                \n",
    "                # Combine parameters into a single dictionary\n",
    "                model_params = {\n",
    "                    \"n_class\": n_class,\n",
    "                    \"conv1_params\": conv1_params,\n",
    "                    \"conv2_params\": conv2_params,\n",
    "                    \"fc1_out_features\": fc1_out_features\n",
    "                }\n",
    "                \n",
    "                kfcv_accuracy = tr.run_train_kfcv(5, model_params)\n",
    "                \n",
    "                print(f\"[KFCV Accuracy | Params=[{model_params}] | {kfcv_accuracy}]\")"
   ]
  },
  {
   "cell_type": "code",
   "execution_count": 1,
   "metadata": {},
   "outputs": [
    {
     "name": "stderr",
     "output_type": "stream",
     "text": [
      "/opt/homebrew/lib/python3.11/site-packages/tqdm/auto.py:22: TqdmWarning: IProgress not found. Please update jupyter and ipywidgets. See https://ipywidgets.readthedocs.io/en/stable/user_install.html\n",
      "  from .autonotebook import tqdm as notebook_tqdm\n",
      "/opt/homebrew/lib/python3.11/site-packages/torchaudio/functional/functional.py:584: UserWarning: At least one mel filterbank has all zero values. The value for `n_mels` (128) may be set too high. Or, the value for `n_freqs` (201) may be set too low.\n",
      "  warnings.warn(\n"
     ]
    },
    {
     "name": "stdout",
     "output_type": "stream",
     "text": [
      "tensor([0.3243, 0.3514, 0.3243])\n",
      "An error occurred: [Errno 2] No such file or directory: './model/latest.txt'\n",
      "Device Selected = [mps]\n"
     ]
    },
    {
     "name": "stderr",
     "output_type": "stream",
     "text": [
      "/opt/homebrew/lib/python3.11/site-packages/torch/nn/modules/lazy.py:180: UserWarning: Lazy modules are a new feature under heavy development so changes to the API or functionality can happen at any moment.\n",
      "  warnings.warn('Lazy modules are a new feature under heavy development '\n",
      "/opt/homebrew/lib/python3.11/site-packages/torch/nn/modules/module.py:1518: UserWarning: Implicit dimension choice for softmax has been deprecated. Change the call to include dim=X as an argument.\n",
      "  return self._call_impl(*args, **kwargs)\n"
     ]
    },
    {
     "name": "stdout",
     "output_type": "stream",
     "text": [
      "[Test Accuracy | Epoch=[0] | 30.76923076923077]\n",
      "[Test Accuracy | Epoch=[1] | 30.76923076923077]\n",
      "[Test Accuracy | Epoch=[2] | 30.76923076923077]\n",
      "[Test Accuracy | Epoch=[3] | 46.15384615384615]\n",
      "[Test Accuracy | Epoch=[4] | 46.15384615384615]\n",
      "[Test Accuracy | Epoch=[5] | 53.84615384615385]\n",
      "[Test Accuracy | Epoch=[6] | 42.30769230769231]\n",
      "[Test Accuracy | Epoch=[7] | 65.38461538461539]\n",
      "[Test Accuracy | Epoch=[8] | 80.76923076923077]\n",
      "[Test Accuracy | Epoch=[9] | 92.3076923076923]\n",
      "[Test Accuracy | Epoch=[10] | 96.15384615384616]\n",
      "[Test Accuracy | Epoch=[11] | 96.15384615384616]\n",
      "[Test Accuracy | Epoch=[12] | 92.3076923076923]\n",
      "[Test Accuracy | Epoch=[13] | 96.15384615384616]\n",
      "[Test Accuracy | Epoch=[14] | 92.3076923076923]\n",
      "[Test Accuracy | Epoch=[15] | 96.15384615384616]\n",
      "[Test Accuracy | Epoch=[16] | 96.15384615384616]\n",
      "[Test Accuracy | Epoch=[17] | 96.15384615384616]\n",
      "[Test Accuracy | Epoch=[18] | 92.3076923076923]\n",
      "[Test Accuracy | Epoch=[19] | 96.15384615384616]\n",
      "[Test Accuracy | Epoch=[20] | 92.3076923076923]\n",
      "[Test Accuracy | Epoch=[21] | 96.15384615384616]\n",
      "[Test Accuracy | Epoch=[22] | 96.15384615384616]\n",
      "[Test Accuracy | Epoch=[23] | 92.3076923076923]\n",
      "[Test Accuracy | Epoch=[24] | 92.3076923076923]\n",
      "[Test Accuracy | Epoch=[25] | 96.15384615384616]\n",
      "[Test Accuracy | Epoch=[26] | 96.15384615384616]\n",
      "[Test Accuracy | Epoch=[27] | 96.15384615384616]\n",
      "[Test Accuracy | Epoch=[28] | 96.15384615384616]\n",
      "[Test Accuracy | Epoch=[29] | 96.15384615384616]\n",
      "[Test Accuracy | Epoch=[30] | 92.3076923076923]\n",
      "[Test Accuracy | Epoch=[31] | 92.3076923076923]\n",
      "[Test Accuracy | Epoch=[32] | 92.3076923076923]\n",
      "[Test Accuracy | Epoch=[33] | 92.3076923076923]\n",
      "[Test Accuracy | Epoch=[34] | 92.3076923076923]\n",
      "[Test Accuracy | Epoch=[35] | 92.3076923076923]\n",
      "[Test Accuracy | Epoch=[36] | 96.15384615384616]\n",
      "[Test Accuracy | Epoch=[37] | 92.3076923076923]\n",
      "[Test Accuracy | Epoch=[38] | 96.15384615384616]\n",
      "[Test Accuracy | Epoch=[39] | 92.3076923076923]\n",
      "[Test Accuracy | Epoch=[40] | 92.3076923076923]\n",
      "[Test Accuracy | Epoch=[41] | 96.15384615384616]\n",
      "[Test Accuracy | Epoch=[42] | 92.3076923076923]\n",
      "[Test Accuracy | Epoch=[43] | 92.3076923076923]\n",
      "[Test Accuracy | Epoch=[44] | 92.3076923076923]\n",
      "[Test Accuracy | Epoch=[45] | 96.15384615384616]\n",
      "[Test Accuracy | Epoch=[46] | 92.3076923076923]\n",
      "[Test Accuracy | Epoch=[47] | 92.3076923076923]\n",
      "[Test Accuracy | Epoch=[48] | 92.3076923076923]\n",
      "[Test Accuracy | Epoch=[49] | 96.15384615384616]\n",
      "[Test Accuracy | Epoch=[50] | 92.3076923076923]\n",
      "[Test Accuracy | Epoch=[51] | 96.15384615384616]\n",
      "[Test Accuracy | Epoch=[52] | 96.15384615384616]\n",
      "[Test Accuracy | Epoch=[53] | 92.3076923076923]\n",
      "[Test Accuracy | Epoch=[54] | 92.3076923076923]\n",
      "[Test Accuracy | Epoch=[55] | 92.3076923076923]\n",
      "[Test Accuracy | Epoch=[56] | 96.15384615384616]\n",
      "[Test Accuracy | Epoch=[57] | 92.3076923076923]\n",
      "[Test Accuracy | Epoch=[58] | 96.15384615384616]\n",
      "[Test Accuracy | Epoch=[59] | 92.3076923076923]\n",
      "[Test Accuracy | Epoch=[60] | 92.3076923076923]\n",
      "[Test Accuracy | Epoch=[61] | 92.3076923076923]\n",
      "[Test Accuracy | Epoch=[62] | 92.3076923076923]\n",
      "[Test Accuracy | Epoch=[63] | 92.3076923076923]\n",
      "[Test Accuracy | Epoch=[64] | 96.15384615384616]\n",
      "[Test Accuracy | Epoch=[65] | 92.3076923076923]\n",
      "[Test Accuracy | Epoch=[66] | 92.3076923076923]\n",
      "[Test Accuracy | Epoch=[67] | 96.15384615384616]\n",
      "[Test Accuracy | Epoch=[68] | 92.3076923076923]\n",
      "[Test Accuracy | Epoch=[69] | 96.15384615384616]\n",
      "[Test Accuracy | Epoch=[70] | 92.3076923076923]\n",
      "[Test Accuracy | Epoch=[71] | 92.3076923076923]\n",
      "[Test Accuracy | Epoch=[72] | 92.3076923076923]\n",
      "[Test Accuracy | Epoch=[73] | 92.3076923076923]\n",
      "[Test Accuracy | Epoch=[74] | 92.3076923076923]\n",
      "[Test Accuracy | Epoch=[75] | 92.3076923076923]\n",
      "[Test Accuracy | Epoch=[76] | 92.3076923076923]\n",
      "[Test Accuracy | Epoch=[77] | 92.3076923076923]\n",
      "[Test Accuracy | Epoch=[78] | 92.3076923076923]\n",
      "[Test Accuracy | Epoch=[79] | 92.3076923076923]\n",
      "[Test Accuracy | Epoch=[80] | 92.3076923076923]\n",
      "[Test Accuracy | Epoch=[81] | 92.3076923076923]\n",
      "[Test Accuracy | Epoch=[82] | 92.3076923076923]\n",
      "[Test Accuracy | Epoch=[83] | 92.3076923076923]\n",
      "[Test Accuracy | Epoch=[84] | 92.3076923076923]\n",
      "[Test Accuracy | Epoch=[85] | 92.3076923076923]\n",
      "[Test Accuracy | Epoch=[86] | 92.3076923076923]\n",
      "[Test Accuracy | Epoch=[87] | 96.15384615384616]\n",
      "[Test Accuracy | Epoch=[88] | 92.3076923076923]\n",
      "[Test Accuracy | Epoch=[89] | 92.3076923076923]\n",
      "[Test Accuracy | Epoch=[90] | 92.3076923076923]\n",
      "[Test Accuracy | Epoch=[91] | 96.15384615384616]\n",
      "[Test Accuracy | Epoch=[92] | 92.3076923076923]\n",
      "[Test Accuracy | Epoch=[93] | 92.3076923076923]\n",
      "[Test Accuracy | Epoch=[94] | 92.3076923076923]\n",
      "[Test Accuracy | Epoch=[95] | 92.3076923076923]\n",
      "[Test Accuracy | Epoch=[96] | 92.3076923076923]\n",
      "[Test Accuracy | Epoch=[97] | 92.3076923076923]\n",
      "[Test Accuracy | Epoch=[98] | 92.3076923076923]\n",
      "[Test Accuracy | Epoch=[99] | 96.15384615384616]\n",
      "[Test Accuracy | Epoch=[100] | 92.3076923076923]\n",
      "[Test Accuracy | Epoch=[101] | 92.3076923076923]\n",
      "[Test Accuracy | Epoch=[102] | 92.3076923076923]\n",
      "[Test Accuracy | Epoch=[103] | 92.3076923076923]\n",
      "[Test Accuracy | Epoch=[104] | 92.3076923076923]\n",
      "[Test Accuracy | Epoch=[105] | 92.3076923076923]\n",
      "[Test Accuracy | Epoch=[106] | 92.3076923076923]\n",
      "[Test Accuracy | Epoch=[107] | 92.3076923076923]\n",
      "[Test Accuracy | Epoch=[108] | 92.3076923076923]\n",
      "[Test Accuracy | Epoch=[109] | 92.3076923076923]\n",
      "[Test Accuracy | Epoch=[110] | 96.15384615384616]\n",
      "Saved model\n"
     ]
    },
    {
     "data": {
      "image/png": "[encoded data removed]",
      "text/plain": [
       "<Figure size 640x480 with 1 Axes>"
      ]
     },
     "metadata": {},
     "output_type": "display_data"
    },
    {
     "name": "stdout",
     "output_type": "stream",
     "text": [
      "[Moving Accuracy | 93.07692307692304]\n"
     ]
    }
   ],
   "source": [
    "import trainer\n",
    "\n",
    "tr = trainer.Trainer()\n",
    "print(f\"[Moving Accuracy | {tr.run_train()}]\")"
   ]
  }
 ],
 "metadata": {
  "kernelspec": {
   "display_name": "Python 3",
   "language": "python",
   "name": "python3"
  },
  "language_info": {
   "codemirror_mode": {
    "name": "ipython",
    "version": 3
   },
   "file_extension": ".py",
   "mimetype": "text/x-python",
   "name": "python",
   "nbconvert_exporter": "python",
   "pygments_lexer": "ipython3",
   "version": "3.11.5"
  },
  "orig_nbformat": 4
 },
 "nbformat": 4,
 "nbformat_minor": 2
}
